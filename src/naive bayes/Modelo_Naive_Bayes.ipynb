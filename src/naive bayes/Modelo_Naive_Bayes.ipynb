{
  "nbformat": 4,
  "nbformat_minor": 0,
  "metadata": {
    "colab": {
      "provenance": []
    },
    "kernelspec": {
      "name": "python3",
      "display_name": "Python 3"
    },
    "language_info": {
      "name": "python"
    }
  },
  "cells": [
    {
      "cell_type": "markdown",
      "source": [
        "Importando as bibliotecas a serem utilizadas"
      ],
      "metadata": {
        "id": "qfsTe51YHEhU"
      }
    },
    {
      "cell_type": "code",
      "execution_count": 4,
      "metadata": {
        "id": "QIvCXBUCG_Ls"
      },
      "outputs": [],
      "source": [
        "import numpy as np\n",
        "import pandas as pd\n",
        "from sklearn.model_selection import train_test_split\n",
        "from sklearn.preprocessing import StandardScaler\n",
        "from imblearn.over_sampling import SMOTE\n",
        "from sklearn.naive_bayes import GaussianNB\n",
        "from sklearn.metrics import classification_report, accuracy_score, confusion_matrix\n"
      ]
    },
    {
      "cell_type": "markdown",
      "source": [
        "Carregar o conjunto de dados"
      ],
      "metadata": {
        "id": "5kP-k8mJIdtj"
      }
    },
    {
      "cell_type": "code",
      "source": [
        "data = pd.read_csv('heart_attack_prediction_dataset.csv')\n"
      ],
      "metadata": {
        "id": "KHByck7MI8aG"
      },
      "execution_count": null,
      "outputs": []
    },
    {
      "cell_type": "markdown",
      "source": [
        "LIMPEZA E PREPARAÇÃO DOS DADOS\n"
      ],
      "metadata": {
        "id": "7ACYriTIJb9b"
      }
    },
    {
      "cell_type": "markdown",
      "source": [
        "Deletar coluna ID e colunas desnecessárias, se existirem"
      ],
      "metadata": {
        "id": "SNmeoUKbJfrj"
      }
    },
    {
      "cell_type": "code",
      "source": [
        "colunas_para_remover = ['Patient ID', 'Country', 'Continent', 'Hemisphere']\n",
        "data = data.drop(columns=[col for col in colunas_para_remover if col in data.columns])\n"
      ],
      "metadata": {
        "id": "6gmwZKUyJmqe"
      },
      "execution_count": null,
      "outputs": []
    },
    {
      "cell_type": "markdown",
      "source": [
        "Edição da Pressão Sanguínea"
      ],
      "metadata": {
        "id": "Fn4dHKlLJovJ"
      }
    },
    {
      "cell_type": "code",
      "source": [
        "data[\"Systolic Pressure\"] = data[\"Blood Pressure\"].apply(lambda x: x.split(\"/\")[0]).astype(int)\n",
        "data[\"Dyastolic Pressure\"] = data[\"Blood Pressure\"].apply(lambda x: x.split(\"/\")[1]).astype(int)\n",
        "data = data.drop(columns=['Blood Pressure'])\n"
      ],
      "metadata": {
        "id": "vynT9czeJ5OA"
      },
      "execution_count": null,
      "outputs": []
    },
    {
      "cell_type": "markdown",
      "source": [
        "Redução de casas decimais para uma após a vírgula"
      ],
      "metadata": {
        "id": "onHaE6AwJ9Wr"
      }
    },
    {
      "cell_type": "code",
      "source": [
        "pd.set_option('display.precision', 1)"
      ],
      "metadata": {
        "id": "vrOHZzVuKBb1"
      },
      "execution_count": null,
      "outputs": []
    },
    {
      "cell_type": "markdown",
      "source": [
        "Transformando dados de 'Diet'"
      ],
      "metadata": {
        "id": "wACyDqcyKRh3"
      }
    },
    {
      "cell_type": "code",
      "source": [
        "ordinal_map = {'Healthy': 2, 'Average': 1, 'Unhealthy': 0}\n",
        "data['Diet'] = data['Diet'].map(ordinal_map)"
      ],
      "metadata": {
        "id": "TOi10xv6KUvo"
      },
      "execution_count": null,
      "outputs": []
    },
    {
      "cell_type": "markdown",
      "source": [
        "Transformando Male = 1 e Female = 0"
      ],
      "metadata": {
        "id": "FyvOfcoSKcjO"
      }
    },
    {
      "cell_type": "code",
      "source": [
        "ordinal_map_sex = {'Male': 1, 'Female': 0}\n",
        "data['Sex'] = data['Sex'].map(ordinal_map_sex)"
      ],
      "metadata": {
        "id": "EK-DBKEfKh4G"
      },
      "execution_count": null,
      "outputs": []
    },
    {
      "cell_type": "markdown",
      "source": [
        "Separar variáveis preditoras e variável a ser prevista"
      ],
      "metadata": {
        "id": "5EMEuAAvKk1G"
      }
    },
    {
      "cell_type": "code",
      "source": [
        "X = data
