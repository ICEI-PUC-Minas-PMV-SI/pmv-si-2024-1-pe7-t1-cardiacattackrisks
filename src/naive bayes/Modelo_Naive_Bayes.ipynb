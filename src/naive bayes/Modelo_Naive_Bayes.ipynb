{
  "nbformat": 4,
  "nbformat_minor": 0,
  "metadata": {
    "colab": {
      "provenance": []
    },
    "kernelspec": {
      "name": "python3",
      "display_name": "Python 3"
    },
    "language_info": {
      "name": "python"
    }
  },
  "cells": [
    {
      "cell_type": "markdown",
      "source": [
        "Importando as bibliotecas a serem utilizadas"
      ],
      "metadata": {
        "id": "qfsTe51YHEhU"
      }
    },
    {
      "cell_type": "code",
      "execution_count": 4,
      "metadata": {
        "id": "QIvCXBUCG_Ls"
      },
      "outputs": [],
      "source": [
        "import numpy as np\n",
        "import pandas as pd\n",
        "from sklearn.model_selection import train_test_split\n",
        "from sklearn.preprocessing import StandardScaler\n",
        "from imblearn.over_sampling import SMOTE\n",
        "from sklearn.naive_bayes import GaussianNB\n",
        "from sklearn.metrics import classification_report, accuracy_score, confusion_matrix\n"
      ]
    },
    {
      "cell_type": "markdown",
      "source": [
        "Carregar o conjunto de dados"
      ],
      "metadata": {
        "id": "5kP-k8mJIdtj"
      }
    },
    {
      "cell_type": "code",
      "source": [
        "data = pd.read_csv('heart_attack_prediction_dataset.csv')\n"
      ],
      "metadata": {
        "id": "KHByck7MI8aG"
      },
      "execution_count": null,
      "outputs": []
    },
    {
      "cell_type": "markdown",
      "source": [
        "LIMPEZA E PREPARAÇÃO DOS DADOS\n"
      ],
      "metadata": {
        "id": "7ACYriTIJb9b"
      }
    },
    {
      "cell_type": "markdown",
      "source": [
        "Deletar coluna ID e colunas desnecessárias, se existirem"
      ],
      "metadata": {
        "id": "SNmeoUKbJfrj"
      }
    },
    {
      "cell_type": "code",
      "source": [
        "colunas_para_remover = ['Patient ID', 'Country', 'Continent', 'Hemisphere']\n",
        "data = data.drop(columns=[col for col in colunas_para_remover if col in data.columns])\n"
      ],
      "metadata": {
        "id": "6gmwZKUyJmqe"
      },
      "execution_count": null,
      "outputs": []
    },
    {
      "cell_type": "markdown",
      "source": [
        "Edição da Pressão Sanguínea"
      ],
      "metadata": {
        "id": "Fn4dHKlLJovJ"
      }
    },
    {
      "cell_type": "code",
      "source": [
        "data[\"Systolic Pressure\"] = data[\"Blood Pressure\"].apply(lambda x: x.split(\"/\")[0]).astype(int)\n",
        "data[\"Dyastolic Pressure\"] = data[\"Blood Pressure\"].apply(lambda x: x.split(\"/\")[1]).astype(int)\n",
        "data = data.drop(columns=['Blood Pressure'])\n"
      ],
      "metadata": {
        "id": "vynT9czeJ5OA"
      },
      "execution_count": null,
      "outputs": []
    },
    {
      "cell_type": "markdown",
      "source": [
        "Redução de casas decimais para uma após a vírgula"
      ],
      "metadata": {
        "id": "onHaE6AwJ9Wr"
      }
    },
    {
      "cell_type": "code",
      "source": [
        "pd.set_option('display.precision', 1)"
      ],
      "metadata": {
        "id": "vrOHZzVuKBb1"
      },
      "execution_count": null,
      "outputs": []
    },
    {
      "cell_type": "markdown",
      "source": [
        "Transformando dados de 'Diet'"
      ],
      "metadata": {
        "id": "wACyDqcyKRh3"
      }
    },
    {
      "cell_type": "code",
      "source": [
        "ordinal_map = {'Healthy': 2, 'Average': 1, 'Unhealthy': 0}\n",
        "data['Diet'] = data['Diet'].map(ordinal_map)"
      ],
      "metadata": {
        "id": "TOi10xv6KUvo"
      },
      "execution_count": null,
      "outputs": []
    },
    {
      "cell_type": "markdown",
      "source": [
        "Transformando Male = 1 e Female = 0"
      ],
      "metadata": {
        "id": "FyvOfcoSKcjO"
      }
    },
    {
      "cell_type": "code",
      "source": [
        "ordinal_map_sex = {'Male': 1, 'Female': 0}\n",
        "data['Sex'] = data['Sex'].map(ordinal_map_sex)"
      ],
      "metadata": {
        "id": "EK-DBKEfKh4G"
      },
      "execution_count": null,
      "outputs": []
    },
    {
      "cell_type": "markdown",
      "source": [
        "Separar variáveis preditoras e variável a ser prevista"
      ],
      "metadata": {
        "id": "5EMEuAAvKk1G"
      }
    },
    {
      "cell_type": "code",
      "source": [
        "X = data.drop(columns=['Heart Attack Risk'])\n",
        "y = data['Heart Attack Risk']\n"
      ],
      "metadata": {
        "id": "QwqTC8_GKob8"
      },
      "execution_count": null,
      "outputs": []
    },
    {
      "cell_type": "markdown",
      "source": [
        "Normalizar demais variáveis preditoras"
      ],
      "metadata": {
        "id": "bm_SMRXvKrv-"
      }
    },
    {
      "cell_type": "code",
      "source": [
        "scaler = StandardScaler()\n",
        "X_scaled = scaler.fit_transform(X)\n"
      ],
      "metadata": {
        "id": "NzfAReetKzP_"
      },
      "execution_count": null,
      "outputs": []
    },
    {
      "cell_type": "markdown",
      "source": [
        "Tratar desbalanceamento de classe"
      ],
      "metadata": {
        "id": "46dcPCzkLcR5"
      }
    },
    {
      "cell_type": "code",
      "source": [
        "smote = SMOTE(random_state=42)\n",
        "X_resampled, y_resampled = smote.fit_resample(X_scaled, y)\n"
      ],
      "metadata": {
        "id": "pN2aQ6JmLmC-"
      },
      "execution_count": null,
      "outputs": []
    },
    {
      "cell_type": "markdown",
      "source": [
        "Dividir o conjunto de dados em conjuntos de treino e teste"
      ],
      "metadata": {
        "id": "GVvmxK7zL8pv"
      }
    },
    {
      "cell_type": "code",
      "source": [
        "X_train, X_test, y_train, y_test = train_test_split(X_resampled, y_resampled, test_size=0.2, random_state=42)\n"
      ],
      "metadata": {
        "id": "eSahsFkNMf4E"
      },
      "execution_count": null,
      "outputs": []
    },
    {
      "cell_type": "markdown",
      "source": [
        "TREINAR MODELO DE NAIVE BAYES"
      ],
      "metadata": {
        "id": "O6BqU2cVMgP1"
      }
    },
    {
      "cell_type": "code",
      "source": [
        "naive_bayes = GaussianNB()\n",
        "naive_bayes.fit(X_train, y_train)\n"
      ],
      "metadata": {
        "id": "2Z96vVvQMlNi"
      },
      "execution_count": null,
      "outputs": []
    },
    {
      "cell_type": "markdown",
      "source": [
        "AVALIAR O MODELO"
      ],
      "metadata": {
        "id": "XszGyYj0M6AN"
      }
    },
    {
      "cell_type": "code",
      "source": [
        "y_pred = naive_bayes.predict(X_test)\n",
        "print(classification_report(y_test, y_pred))\n",
        "print(\"Accuracy Score:\", accuracy_score(y_test, y_pred))\n",
        "print(\"Confusion Matrix:\")\n",
        "print(confusion_matrix(y_test, y_pred))"
      ],
      "metadata": {
        "id": "tbvksIZQNd1E"
      },
      "execution_count": null,
      "outputs": []
    }
  ]
}
