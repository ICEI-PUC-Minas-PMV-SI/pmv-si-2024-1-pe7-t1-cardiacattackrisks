{
  "nbformat": 4,
  "nbformat_minor": 0,
  "metadata": {
    "colab": {
      "provenance": []
    },
    "kernelspec": {
      "name": "python3",
      "display_name": "Python 3"
    },
    "language_info": {
      "name": "python"
    }
  },
  "cells": [
    {
      "cell_type": "markdown",
      "source": [
        "Importando as bibliotecas a serem utilizadas"
      ],
      "metadata": {
        "id": "qfsTe51YHEhU"
      }
    },
    {
      "cell_type": "code",
      "execution_count": 4,
      "metadata": {
        "id": "QIvCXBUCG_Ls"
      },
      "outputs": [],
      "source": [
        "\n",
        "\n",
        "[ ]\n",
        "import numpy as np\n",
        "import pandas as pd\n",
        "from sklearn.model_selection import train_test_split\n",
        "from sklearn.preprocessing import StandardScaler\n",
        "from imblearn.over_sampling import SMOTE\n",
        "from sklearn.naive_bayes import GaussianNB\n",
        "from sklearn.metrics import classification_report, accuracy_score, confusion_matrix\n"
      ]
    },
    {
      "cell_type": "markdown",
      "source": [
        "Carregar o conjunto de dados"
      ],
      "metadata": {
        "id": "5kP-k8mJIdtj"
      }
    },
    {
      "cell_type": "code",
      "source": [
        "data = pd.read_csv('heart_attack_prediction_dataset.csv')\n"
      ],
      "metadata": {
        "id": "KHByck7MI8aG"
      },
      "execution_count": null,
      "outputs": []
    },
    {
      "cell_type": "markdown",
      "source": [
        "LIMPEZA E PREPARAÇÃO DOS DADOS\n"
      ],
      "metadata": {
        "id": "7ACYriTIJb9b"
      }
    },
    {
      "cell_type": "markdown",
      "source": [
        "Deletar coluna ID e colunas desnecessárias, se existirem"
      ],
      "metadata": {
        "id": "SNmeoUKbJfrj"
      }
    },
    {
      "cell_type": "code",
      "source": [
        "colunas_para_remover = ['Patient ID', 'Country', 'Continent', 'Hemisphere']\n",
        "data = data.drop(columns=[col for col in colunas_para_remover if col in data.columns])\n"
      ],
      "metadata": {
        "id": "6gmwZKUyJmqe"
      },
      "execution_count": null,
      "outputs": []
    },
    {
      "cell_type": "markdown",
      "source": [
        "Edição da Pressão Sanguínea"
      ],
      "metadata": {
        "id": "Fn4dHKlLJovJ"
      }
    },
    {
      "cell_type": "code",
      "source": [
        "data[\"Systolic Pressure\"] = data[\"Blood Pressure\"].apply(lambda x: x.split(\"/\")[0]).astype(int)\n",
        "data[\"Dyastolic Pressure\"] = data[\"Blood Pressure\"].apply(lambda x: x.split(\"/\")[1]).astype(int)\n",
        "data = data.drop(columns=['Blood Pressure'])\n"
      ],
      "metadata": {
        "id": "vynT9czeJ5OA"
      },
      "execution_count": null,
      "outputs": []
    },
    {
      "cell_type": "markdown",
      "source": [
        "Redução de casas decimais para uma após a vírgula"
      ],
      "metadata": {
        "id": "onHaE6AwJ9Wr"
      }
    },
    {
      "cell_type": "code",
      "source": [
        "pd.set_option('display.precision', 1)"
      ],
      "metadata": {
        "id": "vrOHZzVuKBb1"
      },
      "execution_count": null,
      "outputs": []
    },
    {
      "cell_type": "markdown",
      "source": [
        "Transformando dados de 'Diet'"
      ],
      "metadata": {
        "id": "wACyDqcyKRh3"
      }
    },
    {
      "cell_type": "code",
      "source": [
        "ordinal_map = {'Healthy': 2, 'Average': 1, 'Unhealthy': 0}\n",
        "data['Diet'] = data['Diet'].map(ordinal_map)"
      ],
      "metadata": {
        "id": "TOi10xv6KUvo"
      },
      "execution_count": null,
      "outputs": []
    },
    {
      "cell_type": "markdown",
      "source": [
        "Transformando Male = 1 e Female = 0"
      ],
      "metadata": {
        "id": "FyvOfcoSKcjO"
      }
    },
    {
      "cell_type": "code",
      "source": [
        "ordinal_map_sex = {'Male': 1, 'Female': 0}\n",
        "data['Sex'] = data['Sex'].map(ordinal_map_sex)"
      ],
      "metadata": {
        "id": "EK-DBKEfKh4G"
      },
      "execution_count": null,
      "outputs": []
    },
    {
      "cell_type": "markdown",
      "source": [
        "Separar variáveis preditoras e variável a ser prevista"
      ],
      "metadata": {
        "id": "5EMEuAAvKk1G"
      }
    },
    {
      "cell_type": "code",
      "source": [
        "X = data.drop(columns=['Heart Attack Risk'])\n",
        "y = data['Heart Attack Risk']"
      ],
      "metadata": {
        "id": "QwqTC8_GKob8"
      },
      "execution_count": null,
      "outputs": []
    },
    {
      "cell_type": "markdown",
      "source": [
        "Normalizar demais variáveis preditoras"
      ],
      "metadata": {
        "id": "bm_SMRXvKrv-"
      }
    },
    {
      "cell_type": "code",
      "source": [
        "scaler = StandardScaler()\n",
        "X_scaled = scaler.fit_transform(X)\n"
      ],
      "metadata": {
        "id": "NzfAReetKzP_"
      },
      "execution_count": null,
      "outputs": []
    },
    {
      "cell_type": "markdown",
      "source": [
        "Aplicar SMOTE"
      ],
      "metadata": {
        "id": "MF1VkODgK9eK"
      }
    },
    {
      "cell_type": "code",
      "source": [
        "smote = SMOTE(random_state=42)\n",
        "X_res, y_res = smote.fit_resample(X_scaled, y)"
      ],
      "metadata": {
        "id": "M887csyPLAWt"
      },
      "execution_count": null,
      "outputs": []
    },
    {
      "cell_type": "markdown",
      "source": [
        "Dividir os dados em conjunto de treinamento e teste"
      ],
      "metadata": {
        "id": "MRKef6TFLD-4"
      }
    },
    {
      "cell_type": "code",
      "source": [
        "X_train_res, X_test_res, y_train_res, y_test_res = train_test_split(X_res, y_res, test_size=0.2, random_state=42)\n"
      ],
      "metadata": {
        "id": "87E0zUH3LIDx"
      },
      "execution_count": null,
      "outputs": []
    },
    {
      "cell_type": "markdown",
      "source": [
        "Treinar o modelo Naive Bayes"
      ],
      "metadata": {
        "id": "mEO2TSfjLNw5"
      }
    },
    {
      "cell_type": "code",
      "source": [
        "naive_bayes_model_res = GaussianNB()\n",
        "naive_bayes_model_res.fit(X_train_res, y_train_res)\n"
      ],
      "metadata": {
        "id": "Uv0bsHnfLO_i"
      },
      "execution_count": null,
      "outputs": []
    },
    {
      "cell_type": "markdown",
      "source": [
        "Fazer previsões e avaliar o modelo"
      ],
      "metadata": {
        "id": "SjoGiXKELTJ-"
      }
    },
    {
      "cell_type": "code",
      "source": [
        "y_pred_res = naive_bayes_model_res.predict(X_test_res)\n",
        "print(\"Precisão:\", accuracy_score(y_test_res, y_pred_res))\n",
        "print(\"Matriz de confusão:\\n\", confusion_matrix(y_test_res, y_pred_res))\n",
        "print(\"Classificação:\\n\", classification_report(y_test_res, y_pred_res))"
      ],
      "metadata": {
        "id": "zXsjVgUYLWYg"
      },
      "execution_count": null,
      "outputs": []
    },
    {
      "cell_type": "markdown",
      "source": [
        "Inserir novos dados para previsão"
      ],
      "metadata": {
        "id": "tAYY-a2FLdeA"
      }
    },
    {
      "cell_type": "code",
      "source": [
        "novos_dados = pd.DataFrame({\n",
        "    'Age': [20],  # Exemplo: 50 anos\n",
        "    'Sex': [0],  # 0 para feminino\n",
        "    'Cholesterol': [120],  # Exemplo: 220 mg/dL\n",
        "    'Heart Rate': [75],  # Exemplo: 75 bpm\n",
        "    'Diabetes': [0],  # Sem diabetes\n",
        "    'Family History': [1],  # Histórico familiar positivo\n",
        "    'Smoking': [1],  # Fumante\n",
        "    'Obesity': [1],  # Obeso\n",
        "    'Alcohol Consumption': [2],  # Consumo de álcool (por exemplo, 2 unidades)\n",
        "    'Exercise Hours Per Week': [1],  # 1 hora de exercício por semana\n",
        "    'Diet': [0],  # Dieta não saudável\n",
        "    'Previous Heart Problems': [0],  # Sem problemas cardíacos prévios\n",
        "    'Medication Use': [1],  # Uso de medicação\n",
        "    'Stress Level': [4],  # Nível de estresse (por exemplo, 4)\n",
        "    'Sedentary Hours Per Day': [8],  # 8 horas sedentárias por dia\n",
        "    'Income': [45000],  # Renda anual (por exemplo, 45.000)\n",
        "    'BMI': [28],  # Índice de Massa Corporal (por exemplo, 28)\n",
        "    'Triglycerides': [180],  # Triglicerídeos (por exemplo, 180 mg/dL)\n",
        "    'Physical Activity Days Per Week': [2],  # 2 dias de atividade física por semana\n",
        "    'Sleep Hours Per Day': [6],  # 6 horas de sono por dia\n",
        "    'Systolic Pressure': [130],  # Pressão sistólica (por exemplo, 130 mmHg)\n",
        "    'Dyastolic Pressure': [85]  # Pressão diastólica (por exemplo, 85 mmHg)\n",
        "})"
      ],
      "metadata": {
        "id": "1bKOAnLaLi5E"
      },
      "execution_count": null,
      "outputs": []
    },
    {
      "cell_type": "markdown",
      "source": [
        "Normalizar os novos dados"
      ],
      "metadata": {
        "id": "6halIe6GLoh-"
      }
    },
    {
      "cell_type": "code",
      "source": [
        "novos_dados_scaled = scaler.transform(novos_dados)\n"
      ],
      "metadata": {
        "id": "htDmLJqvLvFS"
      },
      "execution_count": null,
      "outputs": []
    },
    {
      "cell_type": "markdown",
      "source": [
        "Fazer a previsão"
      ],
      "metadata": {
        "id": "bddW_FxrLw9i"
      }
    },
    {
      "cell_type": "code",
      "source": [
        "previsao = naive_bayes_model_res.predict(novos_dados_scaled)\n",
        "previsao_proba = naive_bayes_model_res.predict_proba(novos_dados_scaled)"
      ],
      "metadata": {
        "id": "8zB6Sm0ILzk-"
      },
      "execution_count": null,
      "outputs": []
    },
    {
      "cell_type": "markdown",
      "source": [
        "Mostrar os resultados"
      ],
      "metadata": {
        "id": "hvoR2LOZL3O4"
      }
    },
    {
      "cell_type": "code",
      "source": [
        "print(\"\\nPrevisão de risco de ataque cardíaco (0 = Baixo, 1 = Alto):\", previsao[0])\n",
        "print(\"Probabilidades:\", previsao_proba[0])"
      ],
      "metadata": {
        "id": "VUXpQ993L51G"
      },
      "execution_count": null,
      "outputs": []
    }
  ]
}